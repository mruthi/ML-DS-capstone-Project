{
 "cells": [
  {
   "cell_type": "code",
   "execution_count": 18,
   "id": "a822e797-57f2-4ab2-ab12-1dcedbfd5a5f",
   "metadata": {},
   "outputs": [],
   "source": [
    "import pandas as pd\n",
    "import numpy as np\n",
    "import matplotlib.pyplot as plt"
   ]
  },
  {
   "cell_type": "code",
   "execution_count": 19,
   "id": "24aae7da-cbc4-49b3-b243-329473ef11da",
   "metadata": {},
   "outputs": [],
   "source": [
    "dataset=pd.read_csv(\"preprocessed.csv\")"
   ]
  },
  {
   "cell_type": "code",
   "execution_count": 20,
   "id": "fed782c8-a26b-4ff4-b0ee-0079b67c4cb7",
   "metadata": {},
   "outputs": [],
   "source": [
    "independent=dataset[['id', 'radius_mean', 'texture_mean', 'perimeter_mean', 'area_mean',\n",
    "       'smoothness_mean', 'compactness_mean', 'concavity_mean',\n",
    "       'concave points_mean', 'symmetry_mean', 'fractal_dimension_mean',\n",
    "       'radius_se', 'texture_se', 'perimeter_se', 'area_se', 'smoothness_se',\n",
    "       'compactness_se', 'concavity_se', 'concave points_se', 'symmetry_se',\n",
    "       'fractal_dimension_se', 'radius_worst', 'texture_worst',\n",
    "       'perimeter_worst', 'area_worst', 'smoothness_worst',\n",
    "       'compactness_worst', 'concavity_worst', 'concave points_worst',\n",
    "       'symmetry_worst', 'fractal_dimension_worst']]"
   ]
  },
  {
   "cell_type": "code",
   "execution_count": 21,
   "id": "e5ac6e7d-c6ad-4421-a23d-e16e27b65d6b",
   "metadata": {},
   "outputs": [],
   "source": [
    "dependent=dataset[[\"diagnosis_M\"]]"
   ]
  },
  {
   "cell_type": "code",
   "execution_count": 22,
   "id": "c104ab59-b446-4a2e-abdb-e6eda45acbe3",
   "metadata": {},
   "outputs": [],
   "source": [
    "from sklearn.model_selection import train_test_split\n",
    "x_train,x_test,y_train,y_test=train_test_split(independent,dependent,test_size=1/3,random_state=0)\n",
    "from sklearn.preprocessing import StandardScaler\n",
    "sc=StandardScaler()\n",
    "x_train=sc.fit_transform(x_train)\n",
    "x_test=sc.transform(x_test)"
   ]
  },
  {
   "cell_type": "code",
   "execution_count": 23,
   "id": "6eddd1ec-bb75-4fa0-ae5d-091536e00587",
   "metadata": {},
   "outputs": [
    {
     "name": "stdout",
     "output_type": "stream",
     "text": [
      "Fitting 5 folds for each of 5 candidates, totalling 25 fits\n"
     ]
    },
    {
     "name": "stderr",
     "output_type": "stream",
     "text": [
      "C:\\Users\\Saran\\AppData\\Local\\anaconda3\\envs\\aiml\\Lib\\site-packages\\sklearn\\utils\\validation.py:1143: DataConversionWarning: A column-vector y was passed when a 1d array was expected. Please change the shape of y to (n_samples, ), for example using ravel().\n",
      "  y = column_or_1d(y, warn=True)\n"
     ]
    },
    {
     "data": {
      "text/html": [
       "<style>#sk-container-id-3 {color: black;background-color: white;}#sk-container-id-3 pre{padding: 0;}#sk-container-id-3 div.sk-toggleable {background-color: white;}#sk-container-id-3 label.sk-toggleable__label {cursor: pointer;display: block;width: 100%;margin-bottom: 0;padding: 0.3em;box-sizing: border-box;text-align: center;}#sk-container-id-3 label.sk-toggleable__label-arrow:before {content: \"▸\";float: left;margin-right: 0.25em;color: #696969;}#sk-container-id-3 label.sk-toggleable__label-arrow:hover:before {color: black;}#sk-container-id-3 div.sk-estimator:hover label.sk-toggleable__label-arrow:before {color: black;}#sk-container-id-3 div.sk-toggleable__content {max-height: 0;max-width: 0;overflow: hidden;text-align: left;background-color: #f0f8ff;}#sk-container-id-3 div.sk-toggleable__content pre {margin: 0.2em;color: black;border-radius: 0.25em;background-color: #f0f8ff;}#sk-container-id-3 input.sk-toggleable__control:checked~div.sk-toggleable__content {max-height: 200px;max-width: 100%;overflow: auto;}#sk-container-id-3 input.sk-toggleable__control:checked~label.sk-toggleable__label-arrow:before {content: \"▾\";}#sk-container-id-3 div.sk-estimator input.sk-toggleable__control:checked~label.sk-toggleable__label {background-color: #d4ebff;}#sk-container-id-3 div.sk-label input.sk-toggleable__control:checked~label.sk-toggleable__label {background-color: #d4ebff;}#sk-container-id-3 input.sk-hidden--visually {border: 0;clip: rect(1px 1px 1px 1px);clip: rect(1px, 1px, 1px, 1px);height: 1px;margin: -1px;overflow: hidden;padding: 0;position: absolute;width: 1px;}#sk-container-id-3 div.sk-estimator {font-family: monospace;background-color: #f0f8ff;border: 1px dotted black;border-radius: 0.25em;box-sizing: border-box;margin-bottom: 0.5em;}#sk-container-id-3 div.sk-estimator:hover {background-color: #d4ebff;}#sk-container-id-3 div.sk-parallel-item::after {content: \"\";width: 100%;border-bottom: 1px solid gray;flex-grow: 1;}#sk-container-id-3 div.sk-label:hover label.sk-toggleable__label {background-color: #d4ebff;}#sk-container-id-3 div.sk-serial::before {content: \"\";position: absolute;border-left: 1px solid gray;box-sizing: border-box;top: 0;bottom: 0;left: 50%;z-index: 0;}#sk-container-id-3 div.sk-serial {display: flex;flex-direction: column;align-items: center;background-color: white;padding-right: 0.2em;padding-left: 0.2em;position: relative;}#sk-container-id-3 div.sk-item {position: relative;z-index: 1;}#sk-container-id-3 div.sk-parallel {display: flex;align-items: stretch;justify-content: center;background-color: white;position: relative;}#sk-container-id-3 div.sk-item::before, #sk-container-id-3 div.sk-parallel-item::before {content: \"\";position: absolute;border-left: 1px solid gray;box-sizing: border-box;top: 0;bottom: 0;left: 50%;z-index: -1;}#sk-container-id-3 div.sk-parallel-item {display: flex;flex-direction: column;z-index: 1;position: relative;background-color: white;}#sk-container-id-3 div.sk-parallel-item:first-child::after {align-self: flex-end;width: 50%;}#sk-container-id-3 div.sk-parallel-item:last-child::after {align-self: flex-start;width: 50%;}#sk-container-id-3 div.sk-parallel-item:only-child::after {width: 0;}#sk-container-id-3 div.sk-dashed-wrapped {border: 1px dashed gray;margin: 0 0.4em 0.5em 0.4em;box-sizing: border-box;padding-bottom: 0.4em;background-color: white;}#sk-container-id-3 div.sk-label label {font-family: monospace;font-weight: bold;display: inline-block;line-height: 1.2em;}#sk-container-id-3 div.sk-label-container {text-align: center;}#sk-container-id-3 div.sk-container {/* jupyter's `normalize.less` sets `[hidden] { display: none; }` but bootstrap.min.css set `[hidden] { display: none !important; }` so we also need the `!important` here to be able to override the default hidden behavior on the sphinx rendered scikit-learn.org. See: https://github.com/scikit-learn/scikit-learn/issues/21755 */display: inline-block !important;position: relative;}#sk-container-id-3 div.sk-text-repr-fallback {display: none;}</style><div id=\"sk-container-id-3\" class=\"sk-top-container\"><div class=\"sk-text-repr-fallback\"><pre>GridSearchCV(estimator=LogisticRegression(), n_jobs=-1,\n",
       "             param_grid={&#x27;penalty&#x27;: [&#x27;l2&#x27;],\n",
       "                         &#x27;solver&#x27;: [&#x27;lbfgs&#x27;, &#x27;liblinear&#x27;, &#x27;newton-cg&#x27;, &#x27;sag&#x27;,\n",
       "                                    &#x27;saga&#x27;]},\n",
       "             scoring=&#x27;f1_weighted&#x27;, verbose=3)</pre><b>In a Jupyter environment, please rerun this cell to show the HTML representation or trust the notebook. <br />On GitHub, the HTML representation is unable to render, please try loading this page with nbviewer.org.</b></div><div class=\"sk-container\" hidden><div class=\"sk-item sk-dashed-wrapped\"><div class=\"sk-label-container\"><div class=\"sk-label sk-toggleable\"><input class=\"sk-toggleable__control sk-hidden--visually\" id=\"sk-estimator-id-7\" type=\"checkbox\" ><label for=\"sk-estimator-id-7\" class=\"sk-toggleable__label sk-toggleable__label-arrow\">GridSearchCV</label><div class=\"sk-toggleable__content\"><pre>GridSearchCV(estimator=LogisticRegression(), n_jobs=-1,\n",
       "             param_grid={&#x27;penalty&#x27;: [&#x27;l2&#x27;],\n",
       "                         &#x27;solver&#x27;: [&#x27;lbfgs&#x27;, &#x27;liblinear&#x27;, &#x27;newton-cg&#x27;, &#x27;sag&#x27;,\n",
       "                                    &#x27;saga&#x27;]},\n",
       "             scoring=&#x27;f1_weighted&#x27;, verbose=3)</pre></div></div></div><div class=\"sk-parallel\"><div class=\"sk-parallel-item\"><div class=\"sk-item\"><div class=\"sk-label-container\"><div class=\"sk-label sk-toggleable\"><input class=\"sk-toggleable__control sk-hidden--visually\" id=\"sk-estimator-id-8\" type=\"checkbox\" ><label for=\"sk-estimator-id-8\" class=\"sk-toggleable__label sk-toggleable__label-arrow\">estimator: LogisticRegression</label><div class=\"sk-toggleable__content\"><pre>LogisticRegression()</pre></div></div></div><div class=\"sk-serial\"><div class=\"sk-item\"><div class=\"sk-estimator sk-toggleable\"><input class=\"sk-toggleable__control sk-hidden--visually\" id=\"sk-estimator-id-9\" type=\"checkbox\" ><label for=\"sk-estimator-id-9\" class=\"sk-toggleable__label sk-toggleable__label-arrow\">LogisticRegression</label><div class=\"sk-toggleable__content\"><pre>LogisticRegression()</pre></div></div></div></div></div></div></div></div></div></div>"
      ],
      "text/plain": [
       "GridSearchCV(estimator=LogisticRegression(), n_jobs=-1,\n",
       "             param_grid={'penalty': ['l2'],\n",
       "                         'solver': ['lbfgs', 'liblinear', 'newton-cg', 'sag',\n",
       "                                    'saga']},\n",
       "             scoring='f1_weighted', verbose=3)"
      ]
     },
     "execution_count": 23,
     "metadata": {},
     "output_type": "execute_result"
    }
   ],
   "source": [
    "from sklearn.linear_model import LogisticRegression\n",
    "from sklearn.model_selection import GridSearchCV\n",
    "param_grid={\"solver\":['lbfgs','liblinear','newton-cg','sag','saga'],\"penalty\":['l2']}\n",
    "grid=GridSearchCV(LogisticRegression(),param_grid,verbose=3,refit=True,n_jobs=-1,scoring=\"f1_weighted\")\n",
    "grid.fit(x_train,y_train)"
   ]
  },
  {
   "cell_type": "code",
   "execution_count": 24,
   "id": "4d7e484f-d38b-4f33-9379-6da856d28d37",
   "metadata": {},
   "outputs": [],
   "source": [
    "import pickle\n",
    "filename=\"finalized_model_LogisticRegression.sav\"\n",
    "pickle.dump(grid,open(filename,'wb'))"
   ]
  },
  {
   "cell_type": "code",
   "execution_count": 26,
   "id": "3430ede3-4f62-4101-add4-f13797984f78",
   "metadata": {},
   "outputs": [
    {
     "name": "stdin",
     "output_type": "stream",
     "text": [
      "ID: 3456788\n",
      "radius_mean: 12.3\n",
      "texture_mean: 45.0\n",
      "perimeter_mean: 236\n",
      "area_mean: 2345.0\n",
      "smoothness_mean: 0.5\n",
      "compactness_mean: 0.9\n",
      "concavity_mean: 0.2\n",
      "concave_points_mean: 0.5\n",
      "symmetry_mean: 0.1\n",
      "fractal_dimension_mean: 345.0\n",
      "radius_se: 234.0\n",
      "texture_se: 186.0\n",
      "perimeter_se: 0.4\n",
      "area_se: 1286.0\n",
      "smoothness_se: 0.4\n",
      "compactness_se: 0.3\n",
      "concavity_se: 0.2\n",
      "concave_points_se: 0.4\n",
      "symmetry_se: 0.4\n",
      "fractal_dimension_se: 0.3\n",
      "radius_worst: 0.2\n",
      "texture_worst: 0.7\n",
      "perimeter_worst: 0.3\n",
      "area_worst: 0.5\n",
      "smoothness_worst: 0.3\n",
      "compactness_worst: 0.3\n",
      "concavity_worst: 0.5\n",
      "concave_points_worst: 0.2\n",
      "symmetry_worst: 0.2\n",
      "fractal_dimension_worst: 0.4\n"
     ]
    }
   ],
   "source": [
    "id_input=float(input(\"ID:\"))\n",
    "radius_mean_input=float(input(\"radius_mean:\"))\n",
    "texture_mean_input=float(input(\"texture_mean:\"))\n",
    "perimeter_mean_input=float(input(\"perimeter_mean:\"))\n",
    "area_mean_input=float(input(\"area_mean:\"))\n",
    "smoothness_mean_input=float(input(\"smoothness_mean:\"))\n",
    "compactness_mean_input=float(input(\"compactness_mean:\"))\n",
    "concavity_mean_input=float(input(\"concavity_mean:\"))\n",
    "concave_points_mean_input=float(input(\"concave_points_mean:\"))\n",
    "symmetry_mean_input=float(input(\"symmetry_mean:\"))\n",
    "fractal_dimension_mean_input=float(input(\"fractal_dimension_mean:\"))\n",
    "radius_se_input=float(input(\"radius_se:\"))\n",
    "texture_se_input=float(input(\"texture_se:\"))\n",
    "perimeter_se_input=float(input(\"perimeter_se:\"))\n",
    "area_se_input=float(input(\"area_se:\"))\n",
    "smoothness_se_input=float(input(\"smoothness_se:\"))\n",
    "compactness_se_input=float(input(\"compactness_se:\"))\n",
    "concavity_se_input=float(input(\"concavity_se:\"))\n",
    "concave_points_se_input=float(input(\"concave_points_se:\"))\n",
    "symmetry_se_input=float(input(\"symmetry_se:\"))\n",
    "fractal_dimension_se_input=float(input(\"fractal_dimension_se:\"))\n",
    "radius_worst_input=float(input(\"radius_worst:\"))\n",
    "texture_worst_input=float(input(\"texture_worst:\"))\n",
    "perimeter_worst_input=float(input(\"perimeter_worst:\"))\n",
    "area_worst_input=float(input(\"area_worst:\"))\n",
    "smoothness_worst_input=float(input(\"smoothness_worst:\"))\n",
    "compactness_worst_input=float(input(\"compactness_worst:\"))\n",
    "concavity_worst_input=float(input(\"concavity_worst:\"))\n",
    "concave_points_worst_input=float(input(\"concave_points_worst:\"))\n",
    "symmetry_worst_input=float(input(\"symmetry_worst:\"))\n",
    "fractal_dimension_worst_input=float(input(\"fractal_dimension_worst:\"))"
   ]
  },
  {
   "cell_type": "code",
   "execution_count": 27,
   "id": "3231f143-3dbd-4799-afa7-22adc6c5572b",
   "metadata": {},
   "outputs": [
    {
     "name": "stderr",
     "output_type": "stream",
     "text": [
      "C:\\Users\\Saran\\AppData\\Local\\anaconda3\\envs\\aiml\\Lib\\site-packages\\sklearn\\base.py:439: UserWarning: X does not have valid feature names, but StandardScaler was fitted with feature names\n",
      "  warnings.warn(\n"
     ]
    }
   ],
   "source": [
    "preinput=sc.transform([[id_input, radius_mean_input, texture_mean_input, perimeter_mean_input, area_mean_input, smoothness_mean_input, compactness_mean_input, concavity_mean_input, concave_points_mean_input, symmetry_mean_input, fractal_dimension_mean_input, radius_se_input, texture_se_input, perimeter_se_input, area_se_input, smoothness_se_input, compactness_se_input, concavity_se_input, concave_points_se_input, symmetry_se_input, fractal_dimension_se_input, radius_worst_input, texture_worst_input, perimeter_worst_input, area_worst_input, smoothness_worst_input, compactness_worst_input, concavity_worst_input, concave_points_worst_input, symmetry_worst_input, fractal_dimension_worst_input]])"
   ]
  },
  {
   "cell_type": "code",
   "execution_count": 28,
   "id": "541e0c77-b1c3-455d-835b-6155c3b2760e",
   "metadata": {},
   "outputs": [
    {
     "data": {
      "text/plain": [
       "array([[-2.34211718e-01, -5.53322343e-01,  6.26124675e+00,\n",
       "         6.23256259e+00,  5.51120463e+00,  2.93068284e+01,\n",
       "         1.63562005e+01,  1.51830594e+00,  1.18477967e+01,\n",
       "        -3.01107198e+00,  5.50955092e+04,  1.12524388e+03,\n",
       "         3.78368028e+02, -1.63775249e+00,  5.05444281e+01,\n",
       "         1.64292836e+02,  1.87475465e+01,  8.51596626e+00,\n",
       "         7.32384211e+01,  5.75915105e+01,  1.67969626e+02,\n",
       "        -3.46608266e+00, -4.10825654e+00, -3.30528169e+00,\n",
       "        -1.77967937e+00,  7.46023907e+00,  3.37321761e-01,\n",
       "         1.21334017e+00,  1.26912449e+00, -1.57175450e+00,\n",
       "         1.99575601e+01]])"
      ]
     },
     "execution_count": 28,
     "metadata": {},
     "output_type": "execute_result"
    }
   ],
   "source": [
    "preinput"
   ]
  },
  {
   "cell_type": "code",
   "execution_count": 29,
   "id": "115ebd12-d0f1-4b4c-b255-3e83c3f9cc09",
   "metadata": {},
   "outputs": [],
   "source": [
    "loaded_model=pickle.load(open(\"finalized_model_LogisticRegression.sav\",'rb'))\n",
    "Result=loaded_model.predict(preinput)"
   ]
  },
  {
   "cell_type": "code",
   "execution_count": 30,
   "id": "8167a5d6-69a7-4948-a8ee-3632420ca6a3",
   "metadata": {},
   "outputs": [
    {
     "data": {
      "text/plain": [
       "array([0], dtype=int64)"
      ]
     },
     "execution_count": 30,
     "metadata": {},
     "output_type": "execute_result"
    }
   ],
   "source": [
    "Result"
   ]
  },
  {
   "cell_type": "code",
   "execution_count": null,
   "id": "6d446f62-f54d-44f5-ab4c-4e8f7a276bfe",
   "metadata": {},
   "outputs": [],
   "source": []
  }
 ],
 "metadata": {
  "kernelspec": {
   "display_name": "Python 3 (ipykernel)",
   "language": "python",
   "name": "python3"
  },
  "language_info": {
   "codemirror_mode": {
    "name": "ipython",
    "version": 3
   },
   "file_extension": ".py",
   "mimetype": "text/x-python",
   "name": "python",
   "nbconvert_exporter": "python",
   "pygments_lexer": "ipython3",
   "version": "3.11.8"
  },
  "widgets": {
   "application/vnd.jupyter.widget-state+json": {
    "state": {},
    "version_major": 2,
    "version_minor": 0
   }
  }
 },
 "nbformat": 4,
 "nbformat_minor": 5
}
